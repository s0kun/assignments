{
 "cells": [
  {
   "cell_type": "code",
   "execution_count": 147,
   "id": "d6c8164b-9d88-450d-b233-563585023bee",
   "metadata": {},
   "outputs": [],
   "source": [
    "# HTTPS/Internet Data formats/structures/standards/constraints/encodings/decodings\n",
    "import requests"
   ]
  },
  {
   "cell_type": "code",
   "execution_count": 148,
   "id": "11f3a036-bfc7-4676-b142-b9452f4a1820",
   "metadata": {},
   "outputs": [
    {
     "name": "stdout",
     "output_type": "stream",
     "text": [
      "get: <Response [200]> : <class 'requests.models.Response'>\n",
      "post: <Response [200]> : <class 'requests.models.Response'>\n",
      "put: <Response [200]> : <class 'requests.models.Response'>\n",
      "delete: <Response [200]> : <class 'requests.models.Response'>\n",
      "head: <Response [200]> : <class 'requests.models.Response'>\n",
      "options: <Response [200]> : <class 'requests.models.Response'>\n"
     ]
    }
   ],
   "source": [
    "# HTTP Requests:\n",
    "\n",
    "# The generic request():\n",
    "# requests.request(method: str, url: str, **kwags) -> requests.models.Response \n",
    "\n",
    "# Specific request methods:\n",
    "\n",
    "# 'get' to a 'web-page'/address as 'r':\n",
    "r = requests.get('http://api.github.com/events')\n",
    "print('get:',r, ':', type(r))\n",
    "\n",
    "# A web identifier/locator/address: \n",
    "# Alias: URL - Universal Resource Locator\n",
    "addr = 'https://httpbin.org'\n",
    "\n",
    "# 'post' data to an address:\n",
    "r = requests.post(addr + '/post', data={'key':'value'})\n",
    "print('post:',r, ':', type(r))\n",
    "\n",
    "# 'put' data to an address:\n",
    "r = requests.put(addr + '/put', data = {})\n",
    "print('put:',r, ':', type(r))\n",
    "\n",
    "# Q. What are the constraints on valid 'data' types?\n",
    "    # {} is valid (dict)\n",
    "    # 1 is invalid (int)\n",
    "\n",
    "# 'delete' to an address:\n",
    "r = requests.delete(addr+'/delete')\n",
    "print('delete:',r, ':', type(r))\n",
    "\n",
    "# 'head' to an address:\n",
    "r = requests.head(addr + '/get')\n",
    "print('head:',r, ':', type(r))\n",
    "\n",
    "# 'options' to an address: ???\n",
    "r = requests.options(addr + '/get')\n",
    "print('options:',r, ':', type(r))\n",
    "\n",
    "# 'patch' to an adress: requests.patch(url, data=None, **kwags) -> Response\n",
    "\n",
    "# NOTE: As shown, Request methods return Response objects."
   ]
  },
  {
   "cell_type": "code",
   "execution_count": 149,
   "id": "a10b0bf3-f9d2-4aef-97ef-0dcd99517256",
   "metadata": {},
   "outputs": [
    {
     "name": "stdout",
     "output_type": "stream",
     "text": [
      "Status code: 200\n",
      "Type: <class 'int'>\n"
     ]
    }
   ],
   "source": [
    "# Hypothesis: \n",
    "    # Responses have a 'status_code' field/attribute ; (1)\n",
    "    # status_code is an integer ; (2)\n",
    "        # Status code 2?? <-> \"Success\"\n",
    "        # Status code 3?? <-> \"Redirection\"\n",
    "        # Status code 4?? <-> \"Client Errors\"\n",
    "        # Status code 5?? <-> \"Server Errors\"\n",
    "\n",
    "# Validating (1):\n",
    "print(\"Status code:\",r.status_code)\n",
    "\n",
    "# Validating (2):\n",
    "print(\"Type:\",type(r.status_code))"
   ]
  },
  {
   "cell_type": "code",
   "execution_count": 150,
   "id": "8e3b62e7-15c8-44ed-873a-28ee6a54c484",
   "metadata": {},
   "outputs": [
    {
     "name": "stdout",
     "output_type": "stream",
     "text": [
      "Parameterised URL: https://httpbin.org/get?horse=neigh&cat=meow&dog=bark&dog=woof\n"
     ]
    }
   ],
   "source": [
    "# Parameterised URLs:\n",
    "    # Parameters are encooded in the URL string\n",
    "\n",
    "url = addr\n",
    "\n",
    "# params are of Type dict((str:list(str)), ...) ? Is this the most generic form?\n",
    "p = {'horse':'neigh', 'cat':'meow', 'dog':['bark','woof'], 'fox':None}\n",
    "r = requests.get(url+'/get',params=p)\n",
    "print(\"Parameterised URL:\",r.url)"
   ]
  },
  {
   "cell_type": "code",
   "execution_count": 151,
   "id": "4f6f9534-8b92-4c01-9b29-d46f37826fc4",
   "metadata": {},
   "outputs": [
    {
     "name": "stdout",
     "output_type": "stream",
     "text": [
      "GET Request:\n",
      "URL: https://httpbin.org/get?a=b\n",
      "{\n",
      "  \"args\": {\n",
      "    \"a\": \"b\"\n",
      "  }, \n",
      "  \"headers\": {\n",
      "    \"Accept\": \"*/*\", \n",
      "    \"Accept-Encoding\": \"gzip, deflate\", \n",
      "    \"Content-Length\": \"3\", \n",
      "    \"Content-Type\": \"application/x-www-form-urlencoded\", \n",
      "    \"Host\": \"httpbin.org\", \n",
      "    \"User-Agent\": \"python-requests/2.31.0\", \n",
      "    \"X-Amzn-Trace-Id\": \"Root=1-65dd7e84-1b1b7bac729981a2442923b5\"\n",
      "  }, \n",
      "  \"origin\": \"14.97.164.46\", \n",
      "  \"url\": \"https://httpbin.org/get?a=b\"\n",
      "}\n",
      "\n",
      "\n",
      "\n",
      "\n",
      "POST Request:\n",
      "PURL: https://httpbin.org/post?a=b\n",
      "{\n",
      "  \"args\": {\n",
      "    \"a\": \"b\"\n",
      "  }, \n",
      "  \"data\": \"\", \n",
      "  \"files\": {}, \n",
      "  \"form\": {\n",
      "    \"a\": \"b\"\n",
      "  }, \n",
      "  \"headers\": {\n",
      "    \"Accept\": \"*/*\", \n",
      "    \"Accept-Encoding\": \"gzip, deflate\", \n",
      "    \"Content-Length\": \"3\", \n",
      "    \"Content-Type\": \"application/x-www-form-urlencoded\", \n",
      "    \"Host\": \"httpbin.org\", \n",
      "    \"User-Agent\": \"python-requests/2.31.0\", \n",
      "    \"X-Amzn-Trace-Id\": \"Root=1-65dd7e85-05429d1f5491c5057f3a8387\"\n",
      "  }, \n",
      "  \"json\": null, \n",
      "  \"origin\": \"14.97.164.46\", \n",
      "  \"url\": \"https://httpbin.org/post?a=b\"\n",
      "}\n",
      "\n"
     ]
    }
   ],
   "source": [
    "# Is data equivalent to params?\n",
    "p = {'a':['b']}\n",
    "\n",
    "# No. Do all distinctions derive from the url field of the Response?\n",
    "# Does the distinction vary with the Request? eg. a 'get()' and  a 'post()'\n",
    "\n",
    "print(\"GET Request:\")\n",
    "\n",
    "# data to GET:\n",
    "r = requests.get(url+'/get', data=p, params=p)\n",
    "print(\"URL:\",r.url)\n",
    "print(r.text)\n",
    "\n",
    "print('\\n\\n')\n",
    "print(\"POST Request:\")\n",
    "\n",
    "# params to POST:\n",
    "r = requests.post(url+'/post', data=p, params=p)\n",
    "print(\"PURL:\",r.url)\n",
    "print(r.text)"
   ]
  },
  {
   "cell_type": "code",
   "execution_count": 152,
   "id": "505bdf18-8de5-422c-b8ff-f836094c72de",
   "metadata": {},
   "outputs": [
    {
     "name": "stdout",
     "output_type": "stream",
     "text": [
      "https://httpbin.org/put\n",
      "Type: <class 'str'>\n"
     ]
    }
   ],
   "source": [
    "# All Responses have a url field/attribute:\n",
    "    # A url is a string.\n",
    "\n",
    "url = addr\n",
    "r = requests.put(url + '/put', data = {})\n",
    "\n",
    "# Validating:\n",
    "print(r.url)\n",
    "print('Type:',type(r.url))"
   ]
  },
  {
   "cell_type": "code",
   "execution_count": 153,
   "id": "f697dea4-92ef-4051-b808-d4278eadbb7a",
   "metadata": {
    "scrolled": true
   },
   "outputs": [
    {
     "name": "stdout",
     "output_type": "stream",
     "text": [
      "Resultant PURL: https://httpbin.org/get?%3Fthis%3Dcorrect=yes%26no\n"
     ]
    }
   ],
   "source": [
    "# In a URL, the params (ki,vi) are represented as strings of form:\n",
    "    # base_URL + '?' + 'k1=v1' + '&' + 'k2=v2' + '&' + ...\n",
    "\n",
    "# Q. What if the keys(ki) and values(vi) themselves contain \n",
    "# the strings '?', '&', '=' and so on?\n",
    "p = {'?this=correct':'yes&no'}\n",
    "r = requests.get(url+'/get',params=p)\n",
    "print(\"Resultant PURL:\",r.url)"
   ]
  },
  {
   "cell_type": "code",
   "execution_count": 154,
   "id": "d5684a94-00e6-4a67-aaa8-5b5048869f6a",
   "metadata": {},
   "outputs": [
    {
     "name": "stdout",
     "output_type": "stream",
     "text": [
      "Encoded URL: https://httpbin.org/get?%2526and%26=%3Fquestion%253F%3Dequal%253D\n",
      "Whitespace Encoding: https://httpbin.org/get?+++=whitespace&%09=tab\n",
      "Plus/Minus Encoding: https://httpbin.org/get?%2B=plus&-=minus\n"
     ]
    }
   ],
   "source": [
    "# Hypothesis:\n",
    "    # The strings are encoded as follows: (1)\n",
    "        # '?' <-> '%3F'\n",
    "        # '=' <-> '%3D'\n",
    "        # '&' <-> '%26'\n",
    "\n",
    "    # NOTE: Simple rule, but not necessarily true.\n",
    "    # Each encoded character 'c' is of form : '%??'\n",
    "    # where, ? belong to {0,1,...,9,A,B,...,F} ; (2)\n",
    "\n",
    "# Q. If '%??' do not represent themselves, then what represents them?\n",
    "p = {'%26and&':'?question%3F=equal%3D'}\n",
    "r = requests.get(url+'/get',params=p)\n",
    "print('Encoded URL:',r.url)\n",
    "\n",
    "# Hypothesis:\n",
    "    # The string '%' is encoded as '%25' ;\n",
    "    # The string '%25' is encoded as '%2525' ;\n",
    "    # The string '%2525' is encoded as '%252525' ; ... and so on\n",
    "\n",
    "# Q. If '&' maps to '%26', then what maps to '&'? What about '%','=' and '?'?\n",
    "\n",
    "# NOTE: Let S be the set of all strings. \n",
    "# An encoding(E) is defined as - E: S <-> S ;\n",
    "\n",
    "# \"To say less but mean more\" is simply an encoding.\n",
    "# To say more to mean less implies the ability to say less to mean more and vice-versa.\n",
    "\n",
    "p = {'   ':'whitespace', '\\t':'tab'}\n",
    "r = requests.get(url+'/get',params=p)\n",
    "print('Whitespace Encoding:',r.url)\n",
    "\n",
    "p = {'+':'plus', '-':'minus'}\n",
    "r = requests.get(url+'/get',params=p)\n",
    "print('Plus/Minus Encoding:',r.url)\n",
    "\n",
    "# Defining more encodings:\n",
    "    # ' ' <-> '+'\n",
    "    # '+' <-> '%2B'\n",
    "    # '-' <-> '-'\n"
   ]
  },
  {
   "cell_type": "code",
   "execution_count": 155,
   "id": "28b29157-8012-4a8d-bd5d-b611c2f32a91",
   "metadata": {},
   "outputs": [
    {
     "name": "stdout",
     "output_type": "stream",
     "text": [
      "params dict: {'https://httpbin.org/get': ''}\n",
      "[ Invalid URL '': No scheme supplied. Perhaps you meant https://? ] error\n",
      "Q. How to express any URL as a Parameterised URL?\n"
     ]
    }
   ],
   "source": [
    "# Hypothesis:\n",
    "p = {(url+'/get'):''}\n",
    "print('params dict:',p)\n",
    "try:\n",
    "    r = requests.get('',params=p)\n",
    "    print(\"Parameterised URLs are simply URLs:\",r.url)\n",
    "except Exception as e:\n",
    "    print('[',e,\"] error\")\n",
    "    print('Q. How to express any URL as a Parameterised URL?')\n",
    "\n",
    "# My URL encoding is contradictory: '' -> '?' but not vice-versa! "
   ]
  },
  {
   "cell_type": "code",
   "execution_count": 156,
   "id": "81a657cc-fbcc-468a-bb1b-29814de31e76",
   "metadata": {},
   "outputs": [
    {
     "name": "stdout",
     "output_type": "stream",
     "text": [
      "text is : <class 'str'>\n",
      "{\n",
      "  \"args\": {\n",
      "    \"+\": \"plus\", \n",
      "    \"-\": \"minus\"\n",
      "  }, \n",
      "  \"headers\": {\n",
      "    \"Accept\": \"*/*\", \n",
      "    \"Accept-Encoding\": \"gzip, deflate\", \n",
      "    \"Host\": \"httpbin.org\", \n",
      "    \"User-Agent\": \"python-requests/2.31.0\", \n",
      "    \"X-Amzn-Trace-Id\": \"Root=1-65dd7e8d-64ab16140b61804e6456c8c5\"\n",
      "  }, \n",
      "  \"origin\": \"14.97.164.46\", \n",
      "  \"url\": \"https://httpbin.org/get?%2B=plus&-=minus\"\n",
      "}\n",
      "\n",
      "encoding is: <class 'str'>\n",
      "utf-8\n"
     ]
    }
   ],
   "source": [
    "# Quote: (Let 'r' denote a Response)\n",
    "\"\"\"\n",
    "Requests will automatically decode content from the server. \n",
    "Most unicode charsets are seamlessly decoded.\n",
    "\n",
    "When you make a request, Requests makes educated guesses \n",
    "about the encoding of the response based on the HTTP headers. \n",
    "The text encoding guessed by Requests is used when you access \n",
    "r.text. \n",
    "\n",
    "You can find out what encoding Requests is using, \n",
    "and change it, using the r.encoding property.\n",
    "\"\"\"\n",
    "# Takeaway: Responses have 'text' and 'encoding' fields.\n",
    "\n",
    "# Hypothesis: \n",
    "    # text is a string ; (1)\n",
    "    # encoding is a string ; (2)\n",
    "\n",
    "# \"Arbitrary\" response:\n",
    "url = \"https://httpbin.org\"\n",
    "p = {'+':'plus', '-':'minus'}\n",
    "r = requests.get(url+'/get',params=p)\n",
    "\n",
    "# Validating (1)\n",
    "print(\"text is :\",type(r.text))\n",
    "print(r.text)\n",
    "\n",
    "# Validating (2)\n",
    "print(\"encoding is:\",type(r.encoding))\n",
    "print(r.encoding)\n",
    "\n",
    "# Although text is a string, it seems to not be ANY string."
   ]
  },
  {
   "cell_type": "code",
   "execution_count": 157,
   "id": "74bd58d8-4d81-467a-80a8-2d06efa136f5",
   "metadata": {},
   "outputs": [
    {
     "name": "stdout",
     "output_type": "stream",
     "text": [
      "Type: <class 'bytes'>\n",
      "b''\n",
      "======================================\n",
      "Type: <class 'bytes'>\n",
      "b'{\\n  \"args\": {}, \\n  \"data\": \"\", \\n  \"files\": {}, \\n  \"form\": {}, \\n  \"headers\": {\\n    \"Accept\": \"*/*\", \\n    \"Accept-Encoding\": \"gzip, deflate\", \\n    \"Content-Length\": \"0\", \\n    \"Host\": \"httpbin.org\", \\n    \"User-Agent\": \"python-requests/2.31.0\", \\n    \"X-Amzn-Trace-Id\": \"Root=1-65dd7e8f-4a9c49ad3eac54651e05c26c\"\\n  }, \\n  \"json\": null, \\n  \"origin\": \"14.97.164.46\", \\n  \"url\": \"https://httpbin.org/delete\"\\n}\\n'\n"
     ]
    }
   ],
   "source": [
    "# Hypothesis:\n",
    "    # Responses have 'content' field/attribute ; (1)\n",
    "    # content is of variable/dynamic Type.\n",
    "\n",
    "# Fixed testing URL:\n",
    "url = \"https://httpbin.org\"\n",
    "\n",
    "# \"Arbitrary\" Response 1:\n",
    "r = requests.head(url + '/get')\n",
    "\n",
    "# Validating:\n",
    "print(\"Type:\",type(r.content))\n",
    "print(r.content)\n",
    "\n",
    "print('======================================')\n",
    "\n",
    "# \"Arbitrary\" Response 2:\n",
    "r = requests.delete(url+'/delete')\n",
    "print('Type:', type(r.content))\n",
    "print(r.content)\n",
    "\n",
    "# content is of Type : bytes"
   ]
  },
  {
   "cell_type": "code",
   "execution_count": 158,
   "id": "14eaca14-4f55-4192-9698-e7361671434e",
   "metadata": {},
   "outputs": [
    {
     "name": "stdout",
     "output_type": "stream",
     "text": [
      "Content:\n",
      "b'{\\n  \"args\": {}, \\n  \"data\": \"\", \\n  \"files\": {}, \\n  \"form\": {}, \\n  \"headers\": {\\n    \"Accept\": \"*/*\", \\n    \"Accept-Encoding\": \"gzip, deflate\", \\n    \"Content-Length\": \"0\", \\n    \"Host\": \"httpbin.org\", \\n    \"User-Agent\": \"python-requests/2.31.0\", \\n    \"X-Amzn-Trace-Id\": \"Root=1-65dd7e90-7378a2914fba800e242bc1b4\"\\n  }, \\n  \"json\": null, \\n  \"origin\": \"14.97.164.46\", \\n  \"url\": \"https://httpbin.org/delete\"\\n}\\n'\n",
      "\n",
      "\n",
      "\n",
      "Text:\n",
      "{\n",
      "  \"args\": {}, \n",
      "  \"data\": \"\", \n",
      "  \"files\": {}, \n",
      "  \"form\": {}, \n",
      "  \"headers\": {\n",
      "    \"Accept\": \"*/*\", \n",
      "    \"Accept-Encoding\": \"gzip, deflate\", \n",
      "    \"Content-Length\": \"0\", \n",
      "    \"Host\": \"httpbin.org\", \n",
      "    \"User-Agent\": \"python-requests/2.31.0\", \n",
      "    \"X-Amzn-Trace-Id\": \"Root=1-65dd7e90-7378a2914fba800e242bc1b4\"\n",
      "  }, \n",
      "  \"json\": null, \n",
      "  \"origin\": \"14.97.164.46\", \n",
      "  \"url\": \"https://httpbin.org/delete\"\n",
      "}\n",
      "\n"
     ]
    }
   ],
   "source": [
    "# Hypothesis:\n",
    "    # Response text and content are dependent on each other\n",
    "\n",
    "url = \"https://httpbin.org\"\n",
    "\n",
    "# \"Arbitrary\" Response:\n",
    "r = requests.delete(url+'/delete')\n",
    "\n",
    "# Content:\n",
    "print('Content:')\n",
    "print(r.content)\n",
    "\n",
    "print('\\n\\n')\n",
    "\n",
    "# Text:\n",
    "print('Text:')\n",
    "print(r.text)"
   ]
  },
  {
   "cell_type": "code",
   "execution_count": 159,
   "id": "882c47a7-1601-4526-82da-b5d0dcb1e785",
   "metadata": {},
   "outputs": [
    {
     "name": "stdout",
     "output_type": "stream",
     "text": [
      "<class 'dict'>\n",
      "{'args': {'a': '1'}, 'headers': {'Accept': '*/*', 'Accept-Encoding': 'gzip, deflate', 'Content-Length': '7', 'Content-Type': 'application/x-www-form-urlencoded', 'Host': 'httpbin.org', 'User-Agent': 'python-requests/2.31.0', 'X-Amzn-Trace-Id': 'Root=1-65dd7e92-33e4de7537d457897fda63ff'}, 'origin': '14.97.164.46', 'url': 'https://httpbin.org/get?a=1'}\n"
     ]
    }
   ],
   "source": [
    "# The \"Content\" of a Response(r):\n",
    "\n",
    "# \"Arbitrary\" Response:\n",
    "url = \"https://httpbin.org\"\n",
    "r = requests.get(url+'/get',data={'a':2,'b':3}, params={'a':1})\n",
    "\n",
    "# After transfer through HTTP, and decoding the 'gzip' and 'deflate' \n",
    "# encodings, we obtain the Binary Content as a sequence of bytes in r.content ;\n",
    "# 'br' transfer encoding is also decoded in the process.\n",
    "\n",
    "# Any valid \"JSON Content\" may be decoded further by using the json() method:\n",
    "    # Response.json() is an instance method ;\n",
    "    # It returns a dict Type object that represents the JSON;\n",
    "# The JSON method raises an Exception in-case decoding fails ;\n",
    "\n",
    "# Decoding the Response Content as JSON:\n",
    "json_dat = None\n",
    "try:\n",
    "    json_dat = r.json()\n",
    "    print(type(json_dat))\n",
    "except Exception as e:\n",
    "    print('Decoding Failed')\n",
    "    print(e)\n",
    "\n",
    "print(json_dat)\n",
    "\n",
    "# Q. What is JSON? A rooted labelled tree ?"
   ]
  },
  {
   "cell_type": "code",
   "execution_count": 160,
   "id": "b4b67ca8-d178-42ac-b5a7-6071d77b5034",
   "metadata": {},
   "outputs": [
    {
     "name": "stdout",
     "output_type": "stream",
     "text": [
      "<class 'urllib3.response.HTTPResponse'>\n"
     ]
    }
   ],
   "source": [
    "# The 'Content' of a Response:\n",
    "\n",
    "# \"Arbitrary\" Response:\n",
    "url = \"https://httpbin.org\"\n",
    "r = requests.delete(addr+'/delete', stream = True)\n",
    "\n",
    "# The 'stream' flag must be set to True of any Request, to obtain \"Raw Content\".\n",
    "# The \"Raw Content\" of a Response is stored in the 'raw' attribute.\n",
    "print(type(r.raw))\n",
    "\n",
    "# The 'raw' content can be parsed ONCE sequentially, \n",
    "# in a \"streamed\" manner. Interestingly, invoking json() on \n",
    "# a Response, nullifies its 'raw' attribute.\n",
    "\n",
    "# The 'Raw Content' may be parsed using different methods:\n",
    "    # urllib3.response.HTTPResponse.read()\n",
    "    # requests.models.Response.iter_content()\n",
    "\n"
   ]
  },
  {
   "cell_type": "code",
   "execution_count": 161,
   "id": "009f723e-5a2d-41ce-8597-408768331cca",
   "metadata": {},
   "outputs": [
    {
     "name": "stdout",
     "output_type": "stream",
     "text": [
      "{\n",
      "  \"args\": {}, \n",
      "  \"headers\": {\n",
      "    \"Accept\": \"*/*\", \n",
      "    \"Accept-Encoding\": \"gzip, deflate\", \n",
      "    \"Best-Singer\": \"Taylor Swift\", \n",
      "    \"Company\": \"Sigmoid\", \n",
      "    \"Host\": \"httpbin.org\", \n",
      "    \"Money\": \"0\", \n",
      "    \"User-Agent\": \"my-app/0.0.1\", \n",
      "    \"X-Amzn-Trace-Id\": \"Root=1-65dd7e94-79a1dab805307b0a1ea468e0\"\n",
      "  }, \n",
      "  \"origin\": \"14.97.164.46\", \n",
      "  \"url\": \"https://httpbin.org/get\"\n",
      "}\n",
      "\n"
     ]
    },
    {
     "data": {
      "text/plain": [
       "'\\nNote: Custom headers are given less precedence \\nthan more specific sources of information:\\n\\nExample,\\n\\nAuthorization headers set with headers= will \\nbe overridden if credentials are specified in .netrc, \\nwhich in turn will be overridden by the auth= parameter. \\nRequests will search for the netrc file at ~/.netrc, ~/_netrc, or \\nat the path specified by the NETRC environment variable.\\n'"
      ]
     },
     "execution_count": 161,
     "metadata": {},
     "output_type": "execute_result"
    }
   ],
   "source": [
    "# HTTP Requests are identified by 'headers'.\n",
    "# Headers along with URLs define(completely?) a Request.\n",
    "# (params, data, stream) also define a Request?\n",
    "\n",
    "url = \"https://httpbin.org\"\n",
    "hdr = {\n",
    "    'user-agent': 'my-app/0.0.1', \n",
    "    'best-singer': 'Taylor Swift', \n",
    "    'company':'Sigmoid', \n",
    "    'Money':str(0), \n",
    "    # 'InvalidHeader Error, Must be of Type str or bytes'\n",
    "    # 'Food':100, \n",
    "    # 'Time':{\n",
    "    #     'work':50,\n",
    "    #     'play':10,\n",
    "    # },\n",
    "}\n",
    "\n",
    "r = requests.get(url+'/get',headers = hdr)\n",
    "print(r.text)\n",
    "\n",
    "# Quote:\n",
    "\"\"\"\n",
    "Note: Custom headers are given less precedence \n",
    "than more specific sources of information:\n",
    "\n",
    "Example,\n",
    "\n",
    "Authorization headers set with headers= will \n",
    "be overridden if credentials are specified in .netrc, \n",
    "which in turn will be overridden by the auth= parameter. \n",
    "Requests will search for the netrc file at ~/.netrc, ~/_netrc, or \n",
    "at the path specified by the NETRC environment variable.\n",
    "\"\"\""
   ]
  },
  {
   "cell_type": "code",
   "execution_count": 162,
   "id": "741af05d-70e9-4f5b-bcef-98125e7207fe",
   "metadata": {},
   "outputs": [
    {
     "name": "stdout",
     "output_type": "stream",
     "text": [
      "{\n",
      "  \"args\": {}, \n",
      "  \"data\": \"\", \n",
      "  \"files\": {}, \n",
      "  \"form\": {\n",
      "    \"\\u0000\": [\n",
      "      \"1\", \n",
      "      \"2\", \n",
      "      \"3\", \n",
      "      \"2\", \n",
      "      \"3\", \n",
      "      \"4\"\n",
      "    ], \n",
      "    \"0\": [\n",
      "      \"\", \n",
      "      \"2\", \n",
      "      \"\\u0000\", \n",
      "      \"1\"\n",
      "    ]\n",
      "  }, \n",
      "  \"headers\": {\n",
      "    \"Accept\": \"*/*\", \n",
      "    \"Accept-Encoding\": \"gzip, deflate\", \n",
      "    \"Content-Length\": \"52\", \n",
      "    \"Content-Type\": \"application/x-www-form-urlencoded\", \n",
      "    \"Host\": \"httpbin.org\", \n",
      "    \"User-Agent\": \"python-requests/2.31.0\", \n",
      "    \"X-Amzn-Trace-Id\": \"Root=1-65dd7e95-1d3fa3bb2e59ba110202e1a1\"\n",
      "  }, \n",
      "  \"json\": null, \n",
      "  \"origin\": \"14.97.164.46\", \n",
      "  \"url\": \"https://httpbin.org/post\"\n",
      "}\n",
      "\n"
     ]
    }
   ],
   "source": [
    "# Constraints on 'data' type:\n",
    "\n",
    "url = 'https://httpbin.org'\n",
    "\n",
    "# For post() requests, data may be a dict of any type?\n",
    "dat = {None:[None,None], \"0\":{'':{'1':2,'2':1}, '2':[None,12], '\\0':[None,[None,None]]}, 0:'1', '\\0':[[1,2,3],2,3,4]}\n",
    "r = requests.post(url+'/post', data=dat)\n",
    "print(r.text)\n",
    "\n",
    "# Observations:\n",
    "    # 'data' seems to support ONLY data of type dict(str:list(str))\n",
    "    # Some hierarchy is flattened and any types are casted to the above form.\n",
    "    # Nested lists are dereferenced, but dictionaries are not dereferenced?\n",
    "\n",
    "    # It occupies the 'form' field in the Response text/content.\n",
    "    # (Quote: \"Your dictionary of data will automatically be \n",
    "    # form-encoded when the request is made\")\n",
    "\n",
    "    # Key int(0) maps to Key str(int(0)) ; Does key a map to Key str(a) ?\n",
    "    # None keys and None lists/values seem to be omitted entiely. \n"
   ]
  },
  {
   "cell_type": "code",
   "execution_count": 163,
   "id": "5094bda4-e322-4704-98ba-a45cdeb55546",
   "metadata": {},
   "outputs": [
    {
     "name": "stdout",
     "output_type": "stream",
     "text": [
      "{\n",
      "  \"args\": {}, \n",
      "  \"data\": \"nothing\", \n",
      "  \"files\": {}, \n",
      "  \"form\": {}, \n",
      "  \"headers\": {\n",
      "    \"Accept\": \"*/*\", \n",
      "    \"Accept-Encoding\": \"gzip, deflate\", \n",
      "    \"Content-Length\": \"7\", \n",
      "    \"Host\": \"httpbin.org\", \n",
      "    \"User-Agent\": \"python-requests/2.31.0\", \n",
      "    \"X-Amzn-Trace-Id\": \"Root=1-65dd7e97-40db858c0d86d5f23be9a321\"\n",
      "  }, \n",
      "  \"json\": null, \n",
      "  \"origin\": \"14.97.164.46\", \n",
      "  \"url\": \"https://httpbin.org/post\"\n",
      "}\n",
      "\n"
     ]
    }
   ],
   "source": [
    "# post() data may also be of type str:\n",
    "r = requests.post(url+'/post', data=\"nothing\")\n",
    "print(r.text)\n",
    "\n",
    "# Observations:\n",
    "    # 'headers/Content-Type' missing\n",
    "    # 'form' field nullified\n",
    "    # 'data' field occupied"
   ]
  },
  {
   "cell_type": "code",
   "execution_count": 164,
   "id": "d00618a8-1d31-4dea-9732-e9810a076fdc",
   "metadata": {},
   "outputs": [
    {
     "name": "stdout",
     "output_type": "stream",
     "text": [
      "Are the two response text attributes equal: False\n"
     ]
    }
   ],
   "source": [
    "# post() data may also be of the form: [(keyA,valA1), (keyA,valA2) ...]\n",
    "# interpreted equivalently to the form: {keyA:[valA1, valA2] ...}\n",
    "datA = [('a',2),('a',3),('b',None),('c',{'d':1,'e':2})]\n",
    "rA = requests.post(url+'/post',data=datA)\n",
    "\n",
    "datB = {'a':{2:None,3:None}, 'b':None, 'c':['d','e']}\n",
    "rB = requests.post(url+'/post',data=datB)\n",
    "\n",
    "# \"X-Amzn-Trace-Id\" fields are distinguishable ;\n",
    "print(\"Are the two response text attributes equal:\",rA.text==rB.text)"
   ]
  },
  {
   "cell_type": "code",
   "execution_count": 165,
   "id": "025c843b-e88d-4d97-83e6-3141653f19ed",
   "metadata": {},
   "outputs": [
    {
     "name": "stdout",
     "output_type": "stream",
     "text": [
      "{\n",
      "  \"args\": {}, \n",
      "  \"data\": \"{\\\"null\\\": [null, null], \\\"0\\\": {\\\"\\\": {\\\"1\\\": 2, \\\"2\\\": 1}, \\\"2\\\": [null, 12], \\\"\\\\u0000\\\": [null, [null, null]]}, \\\"0\\\": \\\"1\\\", \\\"\\\\u0000\\\": [[1, 2, 3], 2, 3, 4]}\", \n",
      "  \"files\": {}, \n",
      "  \"form\": {}, \n",
      "  \"headers\": {\n",
      "    \"Accept\": \"*/*\", \n",
      "    \"Accept-Encoding\": \"gzip, deflate\", \n",
      "    \"Content-Length\": \"142\", \n",
      "    \"Content-Type\": \"application/json\", \n",
      "    \"Host\": \"httpbin.org\", \n",
      "    \"User-Agent\": \"python-requests/2.31.0\", \n",
      "    \"X-Amzn-Trace-Id\": \"Root=1-65dd7e9a-0d432a0f4fd911e73ece615a\"\n",
      "  }, \n",
      "  \"json\": {\n",
      "    \"\\u0000\": [\n",
      "      [\n",
      "        1, \n",
      "        2, \n",
      "        3\n",
      "      ], \n",
      "      2, \n",
      "      3, \n",
      "      4\n",
      "    ], \n",
      "    \"0\": \"1\", \n",
      "    \"null\": [\n",
      "      null, \n",
      "      null\n",
      "    ]\n",
      "  }, \n",
      "  \"origin\": \"14.97.164.46\", \n",
      "  \"url\": \"https://httpbin.org/post\"\n",
      "}\n",
      "\n"
     ]
    }
   ],
   "source": [
    "# 'data' as a 'json' expression: ????\n",
    "\n",
    "url = 'https://httpbin.org'\n",
    "dat = {None:[None,None], \"0\":{'':{'1':2,'2':1}, '2':[None,12], '\\0':[None,[None,None]]}, 0:'1', '\\0':[[1,2,3],2,3,4]}\n",
    "\n",
    "r = requests.post(url+'/post', json=dat)\n",
    "print(r.text)\n",
    "\n",
    "# More to explore about the json Request attribute"
   ]
  },
  {
   "cell_type": "code",
   "execution_count": 166,
   "id": "bd49a123-6cad-4b9c-8b57-e0bed9598456",
   "metadata": {},
   "outputs": [
    {
     "name": "stdout",
     "output_type": "stream",
     "text": [
      "{\n",
      "  \"args\": {}, \n",
      "  \"data\": \"\", \n",
      "  \"files\": {\n",
      "    \"rdme\": \"# assignments\"\n",
      "  }, \n",
      "  \"form\": {}, \n",
      "  \"headers\": {\n",
      "    \"Accept\": \"*/*\", \n",
      "    \"Accept-Encoding\": \"gzip, deflate\", \n",
      "    \"Content-Length\": \"160\", \n",
      "    \"Content-Type\": \"multipart/form-data; boundary=32cc45e09042bc920729082e60af01e6\", \n",
      "    \"Host\": \"httpbin.org\", \n",
      "    \"User-Agent\": \"python-requests/2.31.0\", \n",
      "    \"X-Amzn-Trace-Id\": \"Root=1-65dd7e9b-74de595156a41b556cbd3ef5\"\n",
      "  }, \n",
      "  \"json\": null, \n",
      "  \"origin\": \"14.97.164.46\", \n",
      "  \"url\": \"https://httpbin.org/post\"\n",
      "}\n",
      "\n",
      "{\n",
      "  \"args\": {}, \n",
      "  \"data\": \"\", \n",
      "  \"files\": {\n",
      "    \"greet\": \"This is a string to greet you.\\nHave a wonderful day.\"\n",
      "  }, \n",
      "  \"form\": {}, \n",
      "  \"headers\": {\n",
      "    \"Accept\": \"*/*\", \n",
      "    \"Accept-Encoding\": \"gzip, deflate\", \n",
      "    \"Content-Length\": \"194\", \n",
      "    \"Content-Type\": \"multipart/form-data; boundary=809dbb4cd7e28aebe8613b3aef4b7614\", \n",
      "    \"Host\": \"httpbin.org\", \n",
      "    \"User-Agent\": \"python-requests/2.31.0\", \n",
      "    \"X-Amzn-Trace-Id\": \"Root=1-65dd7e9c-2f105031168beb5c6a743d14\"\n",
      "  }, \n",
      "  \"json\": null, \n",
      "  \"origin\": \"14.97.164.46\", \n",
      "  \"url\": \"https://httpbin.org/post\"\n",
      "}\n",
      "\n"
     ]
    },
    {
     "data": {
      "text/plain": [
       "'\\nIt is strongly recommended that you open files in binary mode. \\nThis is because Requests may attempt to provide the \\nContent-Length header for you, and if it does this value will be \\nset to the number of bytes in the file. Errors may occur if you \\nopen the file in text mode.\\n'"
      ]
     },
     "execution_count": 166,
     "metadata": {},
     "output_type": "execute_result"
    }
   ],
   "source": [
    "# post() request with files:\n",
    "url = 'https://httpbin.org/post'\n",
    "files = {'rdme': ('./README.md', open('./README.md', 'rb'))}\n",
    "\n",
    "r = requests.post(url,files=files)\n",
    "print(r.text)\n",
    "\n",
    "# Q. What is the use of the first element of tuple in 'files/rdme' field?\n",
    "\n",
    "# strings as files:\n",
    "files = {'greet': 'This is a string to greet you.\\nHave a wonderful day.'}\n",
    "r = requests.post(url,files=files)\n",
    "print(r.text)\n",
    "\n",
    "\n",
    "# These standards and methods seem distinctive only in notation.\n",
    "# Quote:\n",
    "\"\"\"\n",
    "It is strongly recommended that you open files in binary mode. \n",
    "This is because Requests may attempt to provide the \n",
    "Content-Length header for you, and if it does this value will be \n",
    "set to the number of bytes in the file. Errors may occur if you \n",
    "open the file in text mode.\n",
    "\"\"\""
   ]
  },
  {
   "cell_type": "code",
   "execution_count": 167,
   "id": "e4a14612-36d1-4ce7-af23-cfa428e9adec",
   "metadata": {},
   "outputs": [
    {
     "name": "stdout",
     "output_type": "stream",
     "text": [
      "Type: <class 'requests.structures.CaseInsensitiveDict'>\n",
      "{'Date': 'Tue, 27 Feb 2024 06:18:06 GMT', 'Content-Type': 'application/json', 'Content-Length': '306', 'Connection': 'keep-alive', 'Server': 'gunicorn/19.9.0', 'Access-Control-Allow-Origin': '*', 'Access-Control-Allow-Credentials': 'true'}\n"
     ]
    }
   ],
   "source": [
    "# A Response has a headers field ; It is of the generic type: dict(strlist(str))?\n",
    "\n",
    "url = 'https://httpbin.org'\n",
    "r = requests.head(url + '/get')\n",
    "\n",
    "print(\"Type:\",type(r.headers)) \n",
    "print(r.headers)\n",
    "\n",
    "# Not dict() type but similar. Why?\n",
    "    # Because it conforms to HTTP Standard that requires Response headers\n",
    "    # be case-insensitive. (i.e. 'A' == 'a')\n",
    "    # Multiple headers may be combined on common \"headers/?\" sub-fields.\n",
    "        # eg. \"name\": \"John\" U \"name\": \"Jack\" <-> \"name\": [\"John\", \"Jack\"]\n",
    "\n",
    "# type(r.headers) conforms to RFC 7230 HTTP standard for the headers field."
   ]
  },
  {
   "cell_type": "code",
   "execution_count": 168,
   "id": "f6f72c86-999e-4d26-ad84-ba4fe04fe31d",
   "metadata": {},
   "outputs": [],
   "source": [
    "# HTTP Cookies:\n"
   ]
  },
  {
   "cell_type": "code",
   "execution_count": 169,
   "id": "e9bab8d6-5808-407a-8cf9-67fb74c69309",
   "metadata": {},
   "outputs": [
    {
     "name": "stdout",
     "output_type": "stream",
     "text": [
      "Final redirected URL: https://github.com/?YES=1&NO=2\n",
      "Status Code of Response: 200\n",
      "Redirection history: [<Response [301]>] ; Type: <class 'list'>\n",
      "Element Type: <class 'requests.models.Response'>\n"
     ]
    }
   ],
   "source": [
    "# Redirection and History:\n",
    "\n",
    "# Quote:\n",
    "\"\"\"\n",
    "By default Requests will perform location \n",
    "redirection for all verbs except HEAD.\n",
    "\"\"\"\n",
    "\n",
    "# The 'history' attribute of a Response accounts \n",
    "# for re-directions. It is of list(requests.models.Response) type.\n",
    "\n",
    "url = 'http://github.com'\n",
    "r = requests.get(url,data='HTTP4LYF', params={'YES':1,'NO':2})\n",
    "\n",
    "print(\"Final redirected URL:\",r.url)\n",
    "print(\"Status Code of Response:\",r.status_code)\n",
    "print(\"Redirection history:\",r.history,\"; Type:\", type(r.history))\n",
    "\n",
    "# Type of history list items:\n",
    "print(\"Element Type:\",type(r.history[0])) # Response"
   ]
  },
  {
   "cell_type": "code",
   "execution_count": 170,
   "id": "f76ecc3c-d3a5-4d40-af28-25bc3c3ea004",
   "metadata": {},
   "outputs": [
    {
     "name": "stdout",
     "output_type": "stream",
     "text": [
      "HTTPConnectionPool(host='github.com', port=80): Max retries exceeded with url: / (Caused by ConnectTimeoutError(<urllib3.connection.HTTPConnection object at 0x111333f50>, 'Connection to github.com timed out. (connect timeout=0.0001)'))\n"
     ]
    }
   ],
   "source": [
    "# Request 'timeout' field:\n",
    "\n",
    "# It is of type 'float' ;\n",
    "# If a Response is not *initiated* before 'timeout' seconds,\n",
    "# a Timeout Exception is raised. If initiated, it may exceed \n",
    "# timeout seconds before being completely identified.\n",
    "\n",
    "try:\n",
    "    requests.get('http://github.com',timeout=0.0001)\n",
    "except Exception as e:\n",
    "    print(e)"
   ]
  },
  {
   "cell_type": "code",
   "execution_count": 146,
   "id": "6de298fd-6c24-48d5-a92d-9a38e097d1ba",
   "metadata": {},
   "outputs": [],
   "source": [
    "# Sessions: (Concise Notation)\n",
    "    \n",
    "    # Request and Response fields/attributes contain  \n",
    "    # redundant and related state over multiple instances.\n",
    "    \n",
    "    # Hence, the complete state/representation of Responses and Requests \n",
    "    # may be decomposed into a generic part, common to all instances and \n",
    "    # referenced by the term Session, along with the specific dynamic part \n",
    "    # that varies from one instance to another.\n",
    "    \n",
    "    # A Session may be declared once, and referenced \n",
    "    # by multiple Requests/Responses over which it is invariant.\n",
    "\n",
    "# Q. Is a Request/Response a part of a Session or vice-versa?\n",
    "    \n",
    "    # I would consider a Session as a part of a Request/Response.\n",
    "\n",
    "    # However, 1 Session corresponds to many Requests whereas,\n",
    "    # 1 Request can only correspond to 1 Session;\n",
    "    \n",
    "# It depends on and varies with how we interpret nothing. Do we \n",
    "# fill in the \"missing\" details, or do we only assume what is given?"
   ]
  },
  {
   "cell_type": "code",
   "execution_count": 194,
   "id": "4d6f008c-6873-4301-af88-e3cac659b359",
   "metadata": {},
   "outputs": [
    {
     "name": "stdout",
     "output_type": "stream",
     "text": [
      "<class 'requests.sessions.Session'>\n",
      "{\n",
      "  \"cookies\": {\n",
      "    \"sessioncookie\": \"123456789\"\n",
      "  }\n",
      "}\n",
      "\n"
     ]
    }
   ],
   "source": [
    "# A Session:\n",
    "s = requests.Session()\n",
    "print(type(s))\n",
    "\n",
    "# Quote: \"A Session object implements all of the main Request methods\" ;\n",
    "url = ('https://httpbin.org' + \n",
    "       '/cookies' + \n",
    "       '/set' + \n",
    "       '/sessioncookie' + \n",
    "       '/123456789')\n",
    "\n",
    "s.get(url)\n",
    "r = s.get('https://httpbin.org/cookies')\n",
    "\n",
    "print(r.text)"
   ]
  },
  {
   "cell_type": "code",
   "execution_count": null,
   "id": "b11a19c6-eaab-4927-addb-694e1d644dda",
   "metadata": {},
   "outputs": [],
   "source": []
  },
  {
   "cell_type": "code",
   "execution_count": null,
   "id": "e80bb85d-06ea-4290-a524-e0889ab830bb",
   "metadata": {},
   "outputs": [],
   "source": [
    "# The real question: Does the implementation assert the assumptions?\n",
    "    \n",
    "    # Realistically, one might argue electromagnetic waves may be defined\n",
    "    # \"independently\" of our theory of Responses and Requests, yet it may \n",
    "    # be that one is simply a translation of the other in another language.\n",
    "\n",
    "    # If the implementation that is reality, truly is independent of \n",
    "    # such theories and models, then it fails that the implementation which\n",
    "    # we argue, indeed asserts the assumptions that we make about it.\n",
    "\n",
    "    # Otherwise, one may describe Electromagnetic Field Theory in terms of\n",
    "    # Responses and Requests and similar terms as discussed above.\n",
    "\n",
    "    # However, one is infinitely elegant and beautiful, described in the \n",
    "    # language of Mathematics, while the other is..., well..., words \n",
    "    # are nothing but the meaning/reality we assume in them, a mockery \n",
    "    # of reality, a mockery of Mathematics. \n",
    "\n",
    "    # Is Mathematics a mockery of itself? Sometimes it feels like an \n",
    "    # infinitely long proof by contradiction of itself unfolding in time.\n",
    "    # Mathematicians crafting it so by the time we contradict it, time \n",
    "    # itself becomes undefined.\n",
    "\n",
    "    # Mathematics argues existence, and in Mathematics exists all that \n",
    "    # do not contradict their own existence. If it exists, it is identified \n",
    "    # by Mathematics, otherwise it is None, which is also identified in \n",
    "    # Mathematics."
   ]
  },
  {
   "cell_type": "code",
   "execution_count": null,
   "id": "6245165f-02e8-4bc7-94cc-5eaecd3e71d9",
   "metadata": {},
   "outputs": [],
   "source": []
  }
 ],
 "metadata": {
  "kernelspec": {
   "display_name": "Python 3 (ipykernel)",
   "language": "python",
   "name": "python3"
  },
  "language_info": {
   "codemirror_mode": {
    "name": "ipython",
    "version": 3
   },
   "file_extension": ".py",
   "mimetype": "text/x-python",
   "name": "python",
   "nbconvert_exporter": "python",
   "pygments_lexer": "ipython3",
   "version": "3.11.6"
  }
 },
 "nbformat": 4,
 "nbformat_minor": 5
}
