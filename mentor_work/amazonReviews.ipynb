{
 "cells": [
  {
   "cell_type": "code",
   "execution_count": 126,
   "id": "fd88df50-0998-4d2b-81a7-cc19312b3898",
   "metadata": {},
   "outputs": [],
   "source": [
    "from bs4 import BeautifulSoup\n",
    "import requests\n",
    "import time\n",
    "import json"
   ]
  },
  {
   "cell_type": "code",
   "execution_count": 127,
   "id": "9ad5d4e0-cc26-4654-917b-1e3e6a630596",
   "metadata": {},
   "outputs": [],
   "source": [
    "def extract_review_details(soup):\n",
    "\n",
    "  reviewer_name = soup.find('a', {'class': ['a-profile', 'a-size-small']}, href=True)\n",
    "  if reviewer_name:\n",
    "      reviewer_name = reviewer_name.find('span', class_='a-profile-name').text.strip()\n",
    "  else:\n",
    "      reviewer_name = \"Not Found\"\n",
    "\n",
    "  review_title_rating = soup.find('a', {'class': ['a-size-base', 'a-link-normal', 'review-title', 'a-color-base', 'review-title-content', 'a-text-bold']}, href=True)\n",
    "\n",
    "  # print(review_title_rating)\n",
    "  # print(\"\\n\\n\\n\\n\")\n",
    "\n",
    "  if review_title_rating:\n",
    "      review_rating = review_title_rating.find('span', class_=\"a-icon-alt\").text.strip()\n",
    "  else:\n",
    "      review_rating = \"Not Found\"\n",
    "\n",
    "  if review_title_rating and review_title_rating.children:\n",
    "      review_title = list(review_title_rating.children)[-2].text.strip() # Extremely Hard Coded and Fragile.\n",
    "  else:\n",
    "      review_title = \"Not Found\"\n",
    "    \n",
    "  review_date = soup.find('span', {'data-hook': 'review-date'})\n",
    "\n",
    "  # print(review_date)\n",
    "  # print(\"\\n\\n\\n\\n\")\n",
    "\n",
    "  if review_date:\n",
    "      review_date = review_date.text.strip()\n",
    "  else:\n",
    "      review_date = \"Not Found\"\n",
    "\n",
    "  review_data = soup.find('span', {'data-hook': 'review-body', 'class': ['a-size-base', 'review-text', 'review-text-content']})\n",
    "    \n",
    "  # print(review_data)\n",
    "  # print(\"\\n\\n\\n\\n\")\n",
    "\n",
    "  if review_data:\n",
    "      review_data = review_data.text.strip()\n",
    "  else:\n",
    "      review_data = \"Not Found\"\n",
    "\n",
    "  # print(reviewer_name,review_date,review_data,review_title,review_rating)\n",
    "\n",
    "  return {\n",
    "      \"Reviewer Name\": reviewer_name,\n",
    "      \"Review Title\": review_title,\n",
    "      \"Review Date\": review_date,\n",
    "      \"Review Rating\": review_rating,\n",
    "      \"Review Data\": review_data\n",
    "  }\n"
   ]
  },
  {
   "cell_type": "code",
   "execution_count": 125,
   "id": "4d3db4eb-a981-42f8-8afc-30605bc491cd",
   "metadata": {
    "scrolled": true
   },
   "outputs": [],
   "source": [
    "base_url = \"https://www.amazon.com/Apple-Silicone-Case-MagSafe-iPhone/product-reviews/B08L5M9L4L\"\n",
    "page_number = 1\n",
    "all_reviews = []"
   ]
  },
  {
   "cell_type": "code",
   "execution_count": null,
   "id": "4af075bb-a93d-43fc-8efc-d919d7eca000",
   "metadata": {
    "scrolled": true
   },
   "outputs": [],
   "source": [
    "url = f\"{base_url}?ref=cm_cr_arp_d_paging_btm_{page_number}&ie=UTF8&reviewerType=all_reviews\"\n",
    "\n",
    "while True:\n",
    "  # Wait...\n",
    "  print(\"Waiting...\")\n",
    "  # time.sleep(10)\n",
    "\n",
    "  print(\"Executing...\")\n",
    "\n",
    "  response = requests.get(url,headers={\"User-Agent\":\"Mozilla/5.0 (Windows NT 10.0; Win64; x64) AppleWebKit/537.36 (KHTML, like Gecko) Chrome/90.0.4430.212 Safari/537.36', 'Accept-Language': 'en-US, en;q=0.5\"})\n",
    "  soup = BeautifulSoup(response.content, \"html.parser\")\n",
    "\n",
    "\n",
    "  if(response.status_code != 200):\n",
    "    print(\"Error\",response.status_code)\n",
    "    print(soup)\n",
    "\n",
    "    with open(\"page.html\",\"w\") as f:\n",
    "        f.write(response.text)\n",
    "    continue\n",
    "\n",
    "  # Find all review sections\n",
    "  reviews = soup.find_all(\"div\", class_=\"a-section review aok-relative\", attrs={\"data-hook\": \"review\"})\n",
    "\n",
    "  # Extract data from reviews on this page\n",
    "  for review in reviews:\n",
    "    # Extract review data using functions from previous code (modify as needed)\n",
    "    review_data = extract_review_details(review)\n",
    "    all_reviews.append(review_data)\n",
    "    \n",
    "  page_number += 1\n",
    "\n",
    "  pagination_bar = soup.find(\"div\", id=\"cm_cr-pagination_bar\", attrs={\"data-hook\":\"pagination-bar\"})\n",
    "  print(pagination_bar)\n",
    "\n",
    "  next_page_link = pagination_bar.find(\"a\", class_=\"a-last\")\n",
    "\n",
    "  if not next_page_link or len(all_reviews)>=20:\n",
    "    break\n",
    "\n",
    "  url = next_page_link.get(\"href\")\n",
    "\n",
    "print(\"Done.\")"
   ]
  },
  {
   "cell_type": "code",
   "execution_count": 111,
   "id": "6bf78363-2782-4c8e-b282-aa4835ad55ee",
   "metadata": {},
   "outputs": [],
   "source": [
    "# Save extracted Data:\n",
    "with open(\"review_data.json\",\"r+\") as f:\n",
    "    try:\n",
    "        data = json.load(f)\n",
    "    except Exception:\n",
    "        data = []\n",
    "\n",
    "    # Empty the file\n",
    "    f.seek(0)\n",
    "    f.write(\"\")\n",
    "    \n",
    "    f.write(json.dumps(data + all_reviews))"
   ]
  }
 ],
 "metadata": {
  "kernelspec": {
   "display_name": "Python 3 (ipykernel)",
   "language": "python",
   "name": "python3"
  },
  "language_info": {
   "codemirror_mode": {
    "name": "ipython",
    "version": 3
   },
   "file_extension": ".py",
   "mimetype": "text/x-python",
   "name": "python",
   "nbconvert_exporter": "python",
   "pygments_lexer": "ipython3",
   "version": "3.11.6"
  }
 },
 "nbformat": 4,
 "nbformat_minor": 5
}
